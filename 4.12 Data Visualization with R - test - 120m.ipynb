{
 "cells": [
  {
   "cell_type": "markdown",
   "id": "0dc6f76c-f304-4334-8e46-6f446569bf47",
   "metadata": {},
   "source": [
    "<center>\n",
    "    <img src=\"https://fpt.edu.vn/Resources/brand/uploads/749540_132829686029858301_o.jpg\" width=\"600\"/>\n",
    "</center>\n",
    "\n",
    "# <a id = \"start\">Data Visualization</a> \n",
    "\n",
    "## Content\n",
    "\n",
    "In this lab, you will learn how to visualize and interpret data using ggplot library. After complete this lab you will be able to plot some kind of chart include:\n",
    "\n",
    "    1. Data preparation \n",
    "    2. Quick plot\n",
    "    3. Scatter chart\n",
    "    4. Bar chart\n",
    "    5. Pie chart\n",
    "    6. Box plot\n",
    "    7. Histogram\n",
    "    8. leaflet\n",
    "\n",
    "Estimate time: **120** minutes"
   ]
  },
  {
   "cell_type": "markdown",
   "id": "bbf8c4df-02aa-4575-bec3-efa178e9c391",
   "metadata": {},
   "source": [
    "## Import Libraries\n",
    "\n",
    "### ggplot2\n",
    "Create Elegant Data Visualisations Using the `Grammar of Graphics`\n",
    "\n",
    "A system for 'declaratively' creating graphics, based on \"The Grammar of Graphics\". You provide the data, tell 'ggplot2' how to map variables to aesthetics, what graphical primitives to use, and it takes care of the details.\n",
    "\n",
    "### tidyverse\n",
    "The 'tidyverse' is a set of packages that work in harmony because they share common data representations and 'API' design. This package is designed to make it easy to install and load multiple 'tidyverse' packages in a single step. Learn more about the 'tidyverse' at https://www.tidyverse.org."
   ]
  },
  {
   "cell_type": "code",
   "execution_count": 1,
   "id": "287b0f8d-d6cc-44a7-9b92-2e4589ca82e5",
   "metadata": {
    "vscode": {
     "languageId": "r"
    }
   },
   "outputs": [],
   "source": [
    "# This lab require some library packages. If error happen when running please uncomment lines below to install them:\n",
    "# install.packages(\"ggplot2\")\n",
    "# install.packages(\"tidyverse\")"
   ]
  },
  {
   "cell_type": "markdown",
   "id": "f11902d0-d672-4283-b5f9-adc0d7c43046",
   "metadata": {},
   "source": [
    "#### Load library package\n",
    "**Note**: You could see some conflicts about tidyverse and stats package. It's only a waring show you that some functions of these package has same name and you should careful when use these functions."
   ]
  },
  {
   "cell_type": "code",
   "execution_count": 2,
   "id": "dfd3ae8a-dff3-47e2-bbe8-7d6edeecfcd6",
   "metadata": {
    "tags": [],
    "vscode": {
     "languageId": "r"
    }
   },
   "outputs": [],
   "source": [
    "# Load library\n"
   ]
  },
  {
   "cell_type": "markdown",
   "id": "6e9f4ad0-209c-43c7-8b56-632ec688c5b7",
   "metadata": {
    "tags": []
   },
   "source": [
    "## 1. Data preparation"
   ]
  },
  {
   "cell_type": "markdown",
   "id": "d3b800a0-0818-4a83-8384-e14a2a535147",
   "metadata": {},
   "source": [
    "#### Understand about data set"
   ]
  },
  {
   "cell_type": "code",
   "execution_count": 3,
   "id": "a787c845-0016-4160-b668-a4a12970f17e",
   "metadata": {
    "tags": [],
    "vscode": {
     "languageId": "r"
    }
   },
   "outputs": [
    {
     "data": {
      "text/html": [
       "\n",
       "<table width=\"100%\" summary=\"page for mtcars {datasets}\"><tr><td>mtcars {datasets}</td><td style=\"text-align: right;\">R Documentation</td></tr></table>\n",
       "\n",
       "<h2>Motor Trend Car Road Tests</h2>\n",
       "\n",
       "<h3>Description</h3>\n",
       "\n",
       "<p>The data was extracted from the 1974 <em>Motor Trend</em> US magazine,\n",
       "and comprises fuel consumption and 10 aspects of\n",
       "automobile design and performance for 32 automobiles (1973&ndash;74\n",
       "models).\n",
       "</p>\n",
       "\n",
       "\n",
       "<h3>Usage</h3>\n",
       "\n",
       "<pre>mtcars</pre>\n",
       "\n",
       "\n",
       "<h3>Format</h3>\n",
       "\n",
       "<p>A data frame with 32 observations on 11 (numeric) variables.\n",
       "</p>\n",
       "\n",
       "<table summary=\"Rd table\">\n",
       "<tr>\n",
       " <td style=\"text-align: right;\">\n",
       "    [, 1] </td><td style=\"text-align: left;\"> mpg  </td><td style=\"text-align: left;\"> Miles/(US) gallon </td>\n",
       "</tr>\n",
       "<tr>\n",
       " <td style=\"text-align: right;\">\n",
       "    [, 2] </td><td style=\"text-align: left;\"> cyl  </td><td style=\"text-align: left;\"> Number of cylinders </td>\n",
       "</tr>\n",
       "<tr>\n",
       " <td style=\"text-align: right;\">\n",
       "    [, 3] </td><td style=\"text-align: left;\"> disp </td><td style=\"text-align: left;\"> Displacement (cu.in.) </td>\n",
       "</tr>\n",
       "<tr>\n",
       " <td style=\"text-align: right;\">\n",
       "    [, 4] </td><td style=\"text-align: left;\"> hp   </td><td style=\"text-align: left;\"> Gross horsepower </td>\n",
       "</tr>\n",
       "<tr>\n",
       " <td style=\"text-align: right;\">\n",
       "    [, 5] </td><td style=\"text-align: left;\"> drat </td><td style=\"text-align: left;\"> Rear axle ratio </td>\n",
       "</tr>\n",
       "<tr>\n",
       " <td style=\"text-align: right;\">\n",
       "    [, 6] </td><td style=\"text-align: left;\"> wt   </td><td style=\"text-align: left;\"> Weight (1000 lbs) </td>\n",
       "</tr>\n",
       "<tr>\n",
       " <td style=\"text-align: right;\">\n",
       "    [, 7] </td><td style=\"text-align: left;\"> qsec </td><td style=\"text-align: left;\"> 1/4 mile time </td>\n",
       "</tr>\n",
       "<tr>\n",
       " <td style=\"text-align: right;\">\n",
       "    [, 8] </td><td style=\"text-align: left;\"> vs   </td><td style=\"text-align: left;\"> Engine (0 = V-shaped, 1 = straight) </td>\n",
       "</tr>\n",
       "<tr>\n",
       " <td style=\"text-align: right;\">\n",
       "    [, 9] </td><td style=\"text-align: left;\"> am   </td><td style=\"text-align: left;\"> Transmission (0 = automatic, 1 = manual) </td>\n",
       "</tr>\n",
       "<tr>\n",
       " <td style=\"text-align: right;\">\n",
       "    [,10] </td><td style=\"text-align: left;\"> gear </td><td style=\"text-align: left;\"> Number of forward gears </td>\n",
       "</tr>\n",
       "<tr>\n",
       " <td style=\"text-align: right;\">\n",
       "    [,11] </td><td style=\"text-align: left;\"> carb </td><td style=\"text-align: left;\"> Number of carburetors\n",
       "  </td>\n",
       "</tr>\n",
       "\n",
       "</table>\n",
       "\n",
       "\n",
       "\n",
       "<h3>Note</h3>\n",
       "\n",
       "<p>Henderson and Velleman (1981) comment in a footnote to Table 1:\n",
       "&lsquo;Hocking [original transcriber]'s noncrucial coding of the\n",
       "Mazda's rotary engine as a straight six-cylinder engine and the\n",
       "Porsche's flat engine as a V engine, as well as the inclusion of the\n",
       "diesel Mercedes 240D, have been retained to enable direct comparisons\n",
       "to be made with previous analyses.&rsquo;\n",
       "</p>\n",
       "\n",
       "\n",
       "<h3>Source</h3>\n",
       "\n",
       "<p>Henderson and Velleman (1981),\n",
       "Building multiple regression models interactively.\n",
       "<em>Biometrics</em>, <b>37</b>, 391&ndash;411.\n",
       "</p>\n",
       "\n",
       "\n",
       "<h3>Examples</h3>\n",
       "\n",
       "<pre>\n",
       "require(graphics)\n",
       "pairs(mtcars, main = \"mtcars data\", gap = 1/4)\n",
       "coplot(mpg ~ disp | as.factor(cyl), data = mtcars,\n",
       "       panel = panel.smooth, rows = 1)\n",
       "## possibly more meaningful, e.g., for summary() or bivariate plots:\n",
       "mtcars2 &lt;- within(mtcars, {\n",
       "   vs &lt;- factor(vs, labels = c(\"V\", \"S\"))\n",
       "   am &lt;- factor(am, labels = c(\"automatic\", \"manual\"))\n",
       "   cyl  &lt;- ordered(cyl)\n",
       "   gear &lt;- ordered(gear)\n",
       "   carb &lt;- ordered(carb)\n",
       "})\n",
       "summary(mtcars2)\n",
       "</pre>\n",
       "\n",
       "<hr /><div style=\"text-align: center;\">[Package <em>datasets</em> version 3.6.1 ]</div>"
      ],
      "text/latex": [
       "\\inputencoding{utf8}\n",
       "\\HeaderA{mtcars}{Motor Trend Car Road Tests}{mtcars}\n",
       "\\keyword{datasets}{mtcars}\n",
       "%\n",
       "\\begin{Description}\\relax\n",
       "The data was extracted from the 1974 \\emph{Motor Trend} US magazine,\n",
       "and comprises fuel consumption and 10 aspects of\n",
       "automobile design and performance for 32 automobiles (1973--74\n",
       "models).\n",
       "\\end{Description}\n",
       "%\n",
       "\\begin{Usage}\n",
       "\\begin{verbatim}\n",
       "mtcars\n",
       "\\end{verbatim}\n",
       "\\end{Usage}\n",
       "%\n",
       "\\begin{Format}\n",
       "A data frame with 32 observations on 11 (numeric) variables.\n",
       "\n",
       "\\Tabular{rll}{\n",
       "[, 1] & mpg  & Miles/(US) gallon \\\\{}\n",
       "[, 2] & cyl  & Number of cylinders \\\\{}\n",
       "[, 3] & disp & Displacement (cu.in.) \\\\{}\n",
       "[, 4] & hp   & Gross horsepower \\\\{}\n",
       "[, 5] & drat & Rear axle ratio \\\\{}\n",
       "[, 6] & wt   & Weight (1000 lbs) \\\\{}\n",
       "[, 7] & qsec & 1/4 mile time \\\\{}\n",
       "[, 8] & vs   & Engine (0 = V-shaped, 1 = straight) \\\\{}\n",
       "[, 9] & am   & Transmission (0 = automatic, 1 = manual) \\\\{}\n",
       "[,10] & gear & Number of forward gears \\\\{}\n",
       "[,11] & carb & Number of carburetors\n",
       "}\n",
       "\\end{Format}\n",
       "%\n",
       "\\begin{Note}\\relax\n",
       "Henderson and Velleman (1981) comment in a footnote to Table 1:\n",
       "`Hocking [original transcriber]'s noncrucial coding of the\n",
       "Mazda's rotary engine as a straight six-cylinder engine and the\n",
       "Porsche's flat engine as a V engine, as well as the inclusion of the\n",
       "diesel Mercedes 240D, have been retained to enable direct comparisons\n",
       "to be made with previous analyses.'\n",
       "\\end{Note}\n",
       "%\n",
       "\\begin{Source}\\relax\n",
       "Henderson and Velleman (1981),\n",
       "Building multiple regression models interactively.\n",
       "\\emph{Biometrics}, \\bold{37}, 391--411.\n",
       "\\end{Source}\n",
       "%\n",
       "\\begin{Examples}\n",
       "\\begin{ExampleCode}\n",
       "require(graphics)\n",
       "pairs(mtcars, main = \"mtcars data\", gap = 1/4)\n",
       "coplot(mpg ~ disp | as.factor(cyl), data = mtcars,\n",
       "       panel = panel.smooth, rows = 1)\n",
       "## possibly more meaningful, e.g., for summary() or bivariate plots:\n",
       "mtcars2 <- within(mtcars, {\n",
       "   vs <- factor(vs, labels = c(\"V\", \"S\"))\n",
       "   am <- factor(am, labels = c(\"automatic\", \"manual\"))\n",
       "   cyl  <- ordered(cyl)\n",
       "   gear <- ordered(gear)\n",
       "   carb <- ordered(carb)\n",
       "})\n",
       "summary(mtcars2)\n",
       "\\end{ExampleCode}\n",
       "\\end{Examples}"
      ],
      "text/plain": [
       "mtcars                package:datasets                 R Documentation\n",
       "\n",
       "_\bM_\bo_\bt_\bo_\br _\bT_\br_\be_\bn_\bd _\bC_\ba_\br _\bR_\bo_\ba_\bd _\bT_\be_\bs_\bt_\bs\n",
       "\n",
       "_\bD_\be_\bs_\bc_\br_\bi_\bp_\bt_\bi_\bo_\bn:\n",
       "\n",
       "     The data was extracted from the 1974 _Motor Trend_ US magazine,\n",
       "     and comprises fuel consumption and 10 aspects of automobile design\n",
       "     and performance for 32 automobiles (1973-74 models).\n",
       "\n",
       "_\bU_\bs_\ba_\bg_\be:\n",
       "\n",
       "     mtcars\n",
       "     \n",
       "_\bF_\bo_\br_\bm_\ba_\bt:\n",
       "\n",
       "     A data frame with 32 observations on 11 (numeric) variables.\n",
       "\n",
       "       [, 1]  mpg   Miles/(US) gallon                        \n",
       "       [, 2]  cyl   Number of cylinders                      \n",
       "       [, 3]  disp  Displacement (cu.in.)                    \n",
       "       [, 4]  hp    Gross horsepower                         \n",
       "       [, 5]  drat  Rear axle ratio                          \n",
       "       [, 6]  wt    Weight (1000 lbs)                        \n",
       "       [, 7]  qsec  1/4 mile time                            \n",
       "       [, 8]  vs    Engine (0 = V-shaped, 1 = straight)      \n",
       "       [, 9]  am    Transmission (0 = automatic, 1 = manual) \n",
       "       [,10]  gear  Number of forward gears                  \n",
       "       [,11]  carb  Number of carburetors                    \n",
       "      \n",
       "_\bN_\bo_\bt_\be:\n",
       "\n",
       "     Henderson and Velleman (1981) comment in a footnote to Table 1:\n",
       "     'Hocking [original transcriber]'s noncrucial coding of the Mazda's\n",
       "     rotary engine as a straight six-cylinder engine and the Porsche's\n",
       "     flat engine as a V engine, as well as the inclusion of the diesel\n",
       "     Mercedes 240D, have been retained to enable direct comparisons to\n",
       "     be made with previous analyses.'\n",
       "\n",
       "_\bS_\bo_\bu_\br_\bc_\be:\n",
       "\n",
       "     Henderson and Velleman (1981), Building multiple regression models\n",
       "     interactively.  _Biometrics_, *37*, 391-411.\n",
       "\n",
       "_\bE_\bx_\ba_\bm_\bp_\bl_\be_\bs:\n",
       "\n",
       "     require(graphics)\n",
       "     pairs(mtcars, main = \"mtcars data\", gap = 1/4)\n",
       "     coplot(mpg ~ disp | as.factor(cyl), data = mtcars,\n",
       "            panel = panel.smooth, rows = 1)\n",
       "     ## possibly more meaningful, e.g., for summary() or bivariate plots:\n",
       "     mtcars2 <- within(mtcars, {\n",
       "        vs <- factor(vs, labels = c(\"V\", \"S\"))\n",
       "        am <- factor(am, labels = c(\"automatic\", \"manual\"))\n",
       "        cyl  <- ordered(cyl)\n",
       "        gear <- ordered(gear)\n",
       "        carb <- ordered(carb)\n",
       "     })\n",
       "     summary(mtcars2)\n",
       "     "
      ]
     },
     "metadata": {},
     "output_type": "display_data"
    }
   ],
   "source": [
    "?mtcars"
   ]
  },
  {
   "cell_type": "markdown",
   "id": "97f907f0-d5da-4a9c-b574-bcc4ea90491a",
   "metadata": {},
   "source": [
    "#### Read in the csv file from the url using the request library"
   ]
  },
  {
   "cell_type": "code",
   "execution_count": 4,
   "id": "609d9f0d-da5b-4ec8-bcc6-55b8f42c7101",
   "metadata": {
    "tags": [],
    "vscode": {
     "languageId": "r"
    }
   },
   "outputs": [],
   "source": [
    "# Load mtcars dataset and show some record\n"
   ]
  },
  {
   "cell_type": "code",
   "execution_count": 5,
   "id": "8e0a9672-a115-49cd-a432-2080fcc6f2a3",
   "metadata": {
    "jupyter": {
     "source_hidden": true
    },
    "tags": [],
    "vscode": {
     "languageId": "r"
    }
   },
   "outputs": [
    {
     "ename": "ERROR",
     "evalue": "Error in mtcars %>% mutate(cyl = as.factor(cyl), am = as.factor(am)): could not find function \"%>%\"\n",
     "output_type": "error",
     "traceback": [
      "Error in mtcars %>% mutate(cyl = as.factor(cyl), am = as.factor(am)): could not find function \"%>%\"\nTraceback:\n"
     ]
    }
   ],
   "source": [
    "mtcars <- mtcars %>%\n",
    "    mutate(cyl = as.factor(cyl),\n",
    "           am = as.factor(am))\n",
    "head(mtcars)"
   ]
  },
  {
   "cell_type": "markdown",
   "id": "96d9a3cb-aa95-4b8e-ad23-f6bca9727196",
   "metadata": {},
   "source": [
    "## 2. Quick plot\n",
    "qplot(quick plot) creates simple scatter plots. But quick plot is not flexible."
   ]
  },
  {
   "cell_type": "code",
   "execution_count": null,
   "id": "11025071-fda2-4054-a23e-b85025d22643",
   "metadata": {
    "tags": [],
    "vscode": {
     "languageId": "r"
    }
   },
   "outputs": [],
   "source": [
    "# Using quick plot to show a scatter chart between mpg and hp\n"
   ]
  },
  {
   "cell_type": "markdown",
   "id": "ea499d40-7152-4e0b-bd16-e52cdaa14695",
   "metadata": {},
   "source": [
    "## 3. Scatter chart\n",
    "\n",
    "Scatter charts are based on basic line charts with the x axis changed to a linear axis. To use a scatter chart, data must be passed as objects containing X and Y properties. The example below creates a scatter chart with 4 points."
   ]
  },
  {
   "cell_type": "code",
   "execution_count": null,
   "id": "b0f35f71-1d16-42b7-b901-d9fcde8867c5",
   "metadata": {
    "vscode": {
     "languageId": "r"
    }
   },
   "outputs": [],
   "source": [
    "# Using ggplot to show a scatter chart between mpg and hp\n"
   ]
  },
  {
   "cell_type": "markdown",
   "id": "4ba5b99a-22a9-4ae3-bd73-93ad29d60cf3",
   "metadata": {},
   "source": [
    "#### theme()\n"
   ]
  },
  {
   "cell_type": "code",
   "execution_count": null,
   "id": "5c1cc88c-a257-401b-b152-e31ed5dba529",
   "metadata": {
    "tags": [],
    "vscode": {
     "languageId": "r"
    }
   },
   "outputs": [],
   "source": [
    "?theme()"
   ]
  },
  {
   "cell_type": "code",
   "execution_count": null,
   "id": "28e5baac-1da3-4af7-be3f-2639ac3ca92c",
   "metadata": {
    "tags": [],
    "vscode": {
     "languageId": "r"
    }
   },
   "outputs": [],
   "source": [
    "# set global theme\n"
   ]
  },
  {
   "cell_type": "markdown",
   "id": "15d45e80-0342-4d11-a569-adb5bffb01ac",
   "metadata": {},
   "source": [
    "#### Multi-line chart"
   ]
  },
  {
   "cell_type": "code",
   "execution_count": null,
   "id": "2248ea2f-3a1d-4e68-b8fd-1d13ca83923d",
   "metadata": {
    "vscode": {
     "languageId": "r"
    }
   },
   "outputs": [],
   "source": [
    "# Draw a line chart with two variables mpg and hp\n"
   ]
  },
  {
   "cell_type": "code",
   "execution_count": null,
   "id": "a03f476c-6c82-4879-b645-681bfd48b7c8",
   "metadata": {
    "tags": [],
    "vscode": {
     "languageId": "r"
    }
   },
   "outputs": [],
   "source": [
    "# Multi-line using group function\n",
    "# variables: mpg vs hp; mpg vs wt\n"
   ]
  },
  {
   "cell_type": "code",
   "execution_count": null,
   "id": "504ed91a-dd10-4a05-8ffd-9b89b3fa2573",
   "metadata": {
    "tags": [],
    "vscode": {
     "languageId": "r"
    }
   },
   "outputs": [],
   "source": [
    "# Multi independence line\n",
    "# variables: mpg vs hp; mpg vs wt\n"
   ]
  },
  {
   "cell_type": "markdown",
   "id": "89c3b12e-84e6-4aa5-a9fe-45df35b88e84",
   "metadata": {},
   "source": [
    "## 4. Bar chart\n",
    "\n",
    "A bar chart or bar graph is a chart that presents categorical data with rectangular bars with heights or lengths proportional to the values that they represent. The bars can be plotted vertically or horizontally. A vertical bar chart is sometimes called a column chart."
   ]
  },
  {
   "cell_type": "code",
   "execution_count": null,
   "id": "dee34e1f-3d74-4a87-bc5e-9fe0f47afd6a",
   "metadata": {
    "tags": [],
    "vscode": {
     "languageId": "r"
    }
   },
   "outputs": [],
   "source": [
    "# Draw a bar chart to compare the number of car models \n",
    "# with 4, 6 and 8 cylinders.\n"
   ]
  },
  {
   "cell_type": "code",
   "execution_count": null,
   "id": "59acec09-d00d-4903-9355-968fe3d54575",
   "metadata": {
    "vscode": {
     "languageId": "r"
    }
   },
   "outputs": [],
   "source": [
    "# # Draw a bar chart to compare the number of car models \n",
    "# with 4, 6 and 8 cylinders for each type of vehicle with \n",
    "# automatic transmission and manual transmission. \n"
   ]
  },
  {
   "cell_type": "code",
   "execution_count": null,
   "id": "1c67ce5d-0157-429b-b9a7-292c20e66974",
   "metadata": {
    "tags": [],
    "vscode": {
     "languageId": "r"
    }
   },
   "outputs": [],
   "source": [
    "# Draw a bar chart to compare the number of car models \n",
    "# with automatic transmission and manual transmission. \n",
    "# Displays each type with the number of models with \n",
    "# different cylinder numbers.\n"
   ]
  },
  {
   "cell_type": "markdown",
   "id": "b620771b-2b55-4e67-808f-7214806d774e",
   "metadata": {},
   "source": [
    "## 5. Pie chart\n",
    "\n",
    "Pie chart (in the form of a pie chart) is used to compare objects at the overall level. Each section represents a metric (usually as a percentage) for an object, and the names of the objects with their color or symbol are often listed next to them."
   ]
  },
  {
   "cell_type": "code",
   "execution_count": null,
   "id": "56412748-d427-42de-957a-697bb2e49d04",
   "metadata": {
    "vscode": {
     "languageId": "r"
    }
   },
   "outputs": [],
   "source": [
    "# Draw a pie chart showing the percentage of vehicle \n",
    "# models with each cylinder type\n"
   ]
  },
  {
   "cell_type": "markdown",
   "id": "0a9722a6-af67-48b1-acf0-43c79139f856",
   "metadata": {},
   "source": [
    "## 6. Box plot\n",
    "\n",
    "In descriptive statistics, a box plot or boxplot is a method for graphically demonstrating the locality, spread and skewness groups of numerical data through their quartiles. In addition to the box on a box plot, there can be lines (which are called whiskers) extending from the box indicating variability outside the upper and lower quartiles"
   ]
  },
  {
   "cell_type": "code",
   "execution_count": null,
   "id": "46d572ba-955e-4c3b-8290-b91d38dfbb5e",
   "metadata": {
    "vscode": {
     "languageId": "r"
    }
   },
   "outputs": [],
   "source": [
    "# Draw a box plot chart to verify which type of car \n",
    "# with an automatic transmission and a controlled \n",
    "# transmission consumes less fuel.\n"
   ]
  },
  {
   "cell_type": "markdown",
   "id": "1a60c787-9e54-4d75-9c82-849bb5d9a1c1",
   "metadata": {},
   "source": [
    "## 7. Histogram\n",
    "\n",
    "A histogram is an approximate representation of the distribution of numerical data. To construct a histogram, the first step is to \"bin\" (or \"bucket\") the range of values—that is, divide the entire range of values into a series of intervals—and then count how many values fall into each interval. The bins are usually specified as consecutive, non-overlapping intervals of a variable. The bins (intervals) must be adjacent and are often (but not required to be) of equal size."
   ]
  },
  {
   "cell_type": "code",
   "execution_count": null,
   "id": "5f99af25-5459-43bb-ab89-a8e896bce25e",
   "metadata": {
    "vscode": {
     "languageId": "r"
    }
   },
   "outputs": [],
   "source": [
    "# Draw a histogram to show the distribution of mpg\n"
   ]
  },
  {
   "cell_type": "markdown",
   "id": "c430acdb-4475-40da-b1b5-c0970b2e5ec8",
   "metadata": {},
   "source": [
    "## 8. Leaflet and map\n",
    "\n",
    "Create and customize interactive maps using the 'Leaflet' JavaScript library and the 'htmlwidgets' package. These maps can be used directly from the R console, from 'RStudio', in Shiny applications and R Markdown documents."
   ]
  },
  {
   "cell_type": "code",
   "execution_count": 1,
   "id": "d70e9c8d-251a-4ea2-8d1f-b23f07f05061",
   "metadata": {
    "vscode": {
     "languageId": "r"
    }
   },
   "outputs": [
    {
     "name": "stderr",
     "output_type": "stream",
     "text": [
      "also installing the dependencies 'fastmap', 'rlang', 'Rcpp', 'htmltools', 'terra', 'htmlwidgets', 'png', 'raster', 'sp'\n",
      "\n",
      "Warning message:\n",
      "\"unable to access index for repository https://cran.r-project.org/bin/windows/contrib/3.6:\n",
      "  cannot open URL 'https://cran.r-project.org/bin/windows/contrib/3.6/PACKAGES'\"Packages which are only available in source form, and may need\n",
      "  compilation of C/C++/Fortran: 'fastmap' 'rlang' 'Rcpp' 'htmltools'\n",
      "  'terra' 'png' 'raster' 'sp'\n"
     ]
    },
    {
     "name": "stdout",
     "output_type": "stream",
     "text": [
      "  These will not be installed\n"
     ]
    },
    {
     "name": "stderr",
     "output_type": "stream",
     "text": [
      "installing the source packages 'htmlwidgets', 'leaflet'\n",
      "\n",
      "Warning message in install.packages(\"leaflet\"):\n",
      "\"installation of package 'htmlwidgets' had non-zero exit status\"Warning message in install.packages(\"leaflet\"):\n",
      "\"installation of package 'leaflet' had non-zero exit status\""
     ]
    }
   ],
   "source": [
    "install.packages(\"leaflet\")"
   ]
  },
  {
   "cell_type": "code",
   "execution_count": 2,
   "id": "d8f280fb-5903-4a61-8ead-43b1fa65d84c",
   "metadata": {
    "vscode": {
     "languageId": "r"
    }
   },
   "outputs": [
    {
     "ename": "ERROR",
     "evalue": "Error in library(\"leaflet\"): there is no package called 'leaflet'\n",
     "output_type": "error",
     "traceback": [
      "Error in library(\"leaflet\"): there is no package called 'leaflet'\nTraceback:\n",
      "1. library(\"leaflet\")"
     ]
    }
   ],
   "source": [
    "# Basic plot map with leaflet\n",
    "library(\"leaflet\")"
   ]
  },
  {
   "cell_type": "code",
   "execution_count": null,
   "id": "9d4f61a8-e976-405f-929c-cee4531f20b2",
   "metadata": {
    "vscode": {
     "languageId": "r"
    }
   },
   "outputs": [],
   "source": [
    "# Add and configuration circle markers"
   ]
  },
  {
   "cell_type": "markdown",
   "id": "29d37039-80f4-4593-8390-55dbdd5c7a00",
   "metadata": {},
   "source": [
    "## Author\n",
    "\n",
    "#### <a href=\"\" target=\"_blank\"></a>\n",
    "\n",
    "## Change Log\n",
    "\n",
    "| Date (YYYY-MM-DD) | Version | Changed By | Change Description                 |\n",
    "| ----------------- | ------- | ---------- | ---------------------------------- |\n",
    "| 2022-09-28        | 1.0     |            | Create the 1st version             |\n",
    "| 2023-10-22        | 1.1     |            | Add leaflet section                |\n",
    "|                   |         |            |                                    |\n",
    "\n",
    "<hr>\n",
    "\n",
    "## <h3 align=\"center\"> © FPT University. All rights reserved. <h3/>\n"
   ]
  },
  {
   "cell_type": "code",
   "execution_count": null,
   "id": "3bed2727-047f-41aa-86b7-8b75dca1fb32",
   "metadata": {
    "vscode": {
     "languageId": "r"
    }
   },
   "outputs": [],
   "source": []
  }
 ],
 "metadata": {
  "kernelspec": {
   "display_name": "R",
   "language": "R",
   "name": "ir"
  },
  "language_info": {
   "codemirror_mode": "r",
   "file_extension": ".r",
   "mimetype": "text/x-r-source",
   "name": "R",
   "pygments_lexer": "r",
   "version": "3.6.1"
  }
 },
 "nbformat": 4,
 "nbformat_minor": 5
}
