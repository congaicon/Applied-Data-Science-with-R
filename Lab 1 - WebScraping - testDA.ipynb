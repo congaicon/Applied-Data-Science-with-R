{
 "cells": [
  {
   "cell_type": "markdown",
   "id": "02c99a41-01db-4a9e-892d-66092eff1145",
   "metadata": {
    "id": "02c99a41-01db-4a9e-892d-66092eff1145"
   },
   "source": [
    "<a id=\"ref0\"></a>\n",
    "\n",
    "<h2 id=\"http\">Overview of HTTP</h2>\n",
    "\n",
    "When the **client** uses a web page your browser sends an **HTTP** request to the **server** where the page is hosted. The server tries to find the desired **resource** such as the home page (index.html).\n",
    "\n",
    "If your request is successful, the server will send the resource to the client in an **HTTP response**; this includes information like the type of the **resource**, the length of the **resource**, and other information.   \n",
    "\n",
    "<p>\n",
    "The figure below represents the process; the circle on the left represents the client, the circle on the right represents the  Web server.  The table under the Web server represents a list of resources stored in the web server. In  this case an <code>HTML</code> file, <code>png</code> image, and <code>txt</code> file .\n",
    "</p>\n",
    "<p>\n",
    "The <b>HTTP</b> protocol allows you to send and receive information through the web including webpages, images, and other web resources.\n",
    "</p\n",
    "\n"
   ]
  },
  {
   "cell_type": "markdown",
   "id": "f1b0de4f-c980-47cf-9b84-99595d3c6555",
   "metadata": {
    "id": "f1b0de4f-c980-47cf-9b84-99595d3c6555"
   },
   "source": [
    "<center>\n",
    "    <img src=\"https://fpt.edu.vn/Resources/brand/uploads/749540_132829686029858301_o.jpg\" width=\"500\" alt=\"cognitiveclass.ai logo\"  />\n",
    "</center>\n",
    "\n",
    "# Lab 1: WebScraping\n",
    "\n",
    "<br>\n",
    "\n",
    "#### Class name: ______________________\n",
    "\n",
    "#### Student code: ______________________\n",
    "\n",
    "#### Student name: ______________________\n",
    "\n",
    "<br>\n",
    "\n",
    "## Objectives\n",
    "\n",
    "After completing this lab you will be able to:\n",
    "\n",
    "* Understand HTML via coding practice\n",
    "* Handle the HTTP Requests and response using R\n",
    "* Perform basic webscraping using rvest\n",
    "\n",
    "\n",
    "Estimated time needed: **60** minutes\n",
    "<h4 style='color:red; font-weight:bold'>DO NOT CHEAT! 1 point for anybody copy or share code</h4>"
   ]
  },
  {
   "cell_type": "markdown",
   "id": "283adcf0-7cac-4887-8feb-61ad53842f73",
   "metadata": {
    "id": "283adcf0-7cac-4887-8feb-61ad53842f73"
   },
   "source": [
    "<h2 id=\"#httr\">The httr library</h2>\n",
    "\n",
    "`httr` is a R library that allows you to build and send <code>HTTP</code> requests, as well as process <code>HTTP</code> requests easily.  We can import the package as follows (may take less than minute to import):"
   ]
  },
  {
   "cell_type": "code",
   "execution_count": 1,
   "id": "e5926a87-2496-4e20-9556-ae0e5ed20fde",
   "metadata": {
    "colab": {
     "base_uri": "https://localhost:8080/",
     "height": 124
    },
    "executionInfo": {
     "elapsed": 411,
     "status": "error",
     "timestamp": 1715767699340,
     "user": {
      "displayName": "Huy Lương",
      "userId": "00165440145481645247"
     },
     "user_tz": -420
    },
    "id": "e5926a87-2496-4e20-9556-ae0e5ed20fde",
    "outputId": "cd9c87cb-557e-4d64-e887-4d0aab7906dd"
   },
   "outputs": [],
   "source": [
    "# This lab require some library packages. If error happen when running please uncomment lines below to install them:\n",
    "# install.packages(\"httr\", type = \"binary\")\n",
    "# install.packages(\"rvest\", type=\"binary\")\n"
   ]
  },
  {
   "cell_type": "code",
   "execution_count": 2,
   "id": "03dc822c-7e15-4544-be87-97a17f97bd22",
   "metadata": {
    "executionInfo": {
     "elapsed": 1108,
     "status": "ok",
     "timestamp": 1715783304082,
     "user": {
      "displayName": "Gia bảo Tạ",
      "userId": "01001337377882460785"
     },
     "user_tz": -420
    },
    "id": "03dc822c-7e15-4544-be87-97a17f97bd22",
    "tags": []
   },
   "outputs": [
    {
     "name": "stderr",
     "output_type": "stream",
     "text": [
      "Loading required package: xml2\n",
      "Registered S3 method overwritten by 'rvest':\n",
      "  method            from\n",
      "  read_xml.response xml2\n"
     ]
    }
   ],
   "source": [
    "library(httr)\n",
    "library(rvest)"
   ]
  },
  {
   "cell_type": "markdown",
   "id": "dc793706-ce60-4b1a-a031-6c05d28e0f2b",
   "metadata": {
    "id": "dc793706-ce60-4b1a-a031-6c05d28e0f2b"
   },
   "source": [
    "## 1. Example code"
   ]
  },
  {
   "cell_type": "code",
   "execution_count": 3,
   "id": "8fcbf1af-2865-44ba-966e-c1ae835b3721",
   "metadata": {
    "colab": {
     "base_uri": "https://localhost:8080/"
    },
    "executionInfo": {
     "elapsed": 1188,
     "status": "ok",
     "timestamp": 1715783329210,
     "user": {
      "displayName": "Gia bảo Tạ",
      "userId": "01001337377882460785"
     },
     "user_tz": -420
    },
    "id": "8fcbf1af-2865-44ba-966e-c1ae835b3721",
    "outputId": "ede02a25-fe40-44a1-98f7-f954bf1a5583",
    "tags": []
   },
   "outputs": [
    {
     "name": "stdout",
     "output_type": "stream",
     "text": [
      "[1] \"Time: 2024-05-20 05:29:32\"\n",
      "[1] \"URL link: https://fap.fpt.edu.vn/\"\n",
      "[1] \"Status code: 200\"\n"
     ]
    }
   ],
   "source": [
    "url <- 'https://fap.fpt.edu.vn/'\n",
    "response<-GET(url, encodeString='unicode')\n",
    "\n",
    "print(sprintf(\"Time: %s\", response$date))\n",
    "print(sprintf(\"URL link: %s\", response$url))\n",
    "print(sprintf(\"Status code: %d\", response$status_code))"
   ]
  },
  {
   "cell_type": "code",
   "execution_count": 4,
   "id": "00ad1058-07c5-45f4-9611-944170c22c89",
   "metadata": {
    "colab": {
     "base_uri": "https://localhost:8080/"
    },
    "executionInfo": {
     "elapsed": 428,
     "status": "ok",
     "timestamp": 1715783558030,
     "user": {
      "displayName": "Gia bảo Tạ",
      "userId": "01001337377882460785"
     },
     "user_tz": -420
    },
    "id": "00ad1058-07c5-45f4-9611-944170c22c89",
    "outputId": "8a17ab78-e12d-44b4-d3c0-9403f19e33c5",
    "tags": []
   },
   "outputs": [
    {
     "name": "stdout",
     "output_type": "stream",
     "text": [
      "[1] \"List of FPT University campus: \"\n",
      "[1] \"FU-Hòa L<U+1EA1>c\"\n",
      "[1] \"FU-H<U+1ED3> Chí Minh\"\n",
      "[1] \"FU-Ðà N<U+1EB5>ng\"\n",
      "[1] \"FU-C<U+1EA7>n Tho\"\n",
      "[1] \"FU-Quy Nhon\"\n"
     ]
    }
   ],
   "source": [
    "root <- read_html(response)\n",
    "options_node <- html_nodes(root, \"option\")\n",
    "values <- c()\n",
    "print(\"List of FPT University campus: \")\n",
    "for(node in options_node){\n",
    "    v <- as.integer(html_attr(node, \"value\"))\n",
    "    if(!is.na(v) && !(v %in% values)){\n",
    "        values<- c(values, v)\n",
    "        print(html_text(node))\n",
    "    }\n",
    "}"
   ]
  },
  {
   "cell_type": "markdown",
   "id": "c0ca96fd-aa83-4c97-9102-ff9a4363dbe2",
   "metadata": {
    "id": "c0ca96fd-aa83-4c97-9102-ff9a4363dbe2"
   },
   "source": [
    "## 2. Data source\n",
    "Implement that code by change the URL\n",
    "\n",
    "* https://webtygia.com/\n",
    "\n",
    "* https://giavang.org/\n",
    "\n",
    "* https://tygiadola.net/giavang/gia-vang-hom-nay\n",
    "\n",
    "* https://nongnghiep.vn/bang-gia-vang-sjc-9999-24k-18k-14k-10k-hom-nay-24-10-2022-d335344.html\n",
    "\n",
    "or any other URL that you can find!\n"
   ]
  },
  {
   "cell_type": "markdown",
   "id": "EZPbVHHMy-Sq",
   "metadata": {
    "id": "EZPbVHHMy-Sq"
   },
   "source": []
  },
  {
   "cell_type": "markdown",
   "id": "fbaa72a7-3d1b-4f86-aaa0-7266e795122b",
   "metadata": {
    "id": "fbaa72a7-3d1b-4f86-aaa0-7266e795122b"
   },
   "source": [
    "## 3. Tasks"
   ]
  },
  {
   "cell_type": "markdown",
   "id": "57795be9-2732-4359-a70c-be85ac9f6ae8",
   "metadata": {
    "id": "57795be9-2732-4359-a70c-be85ac9f6ae8"
   },
   "source": [
    "#### 3.1 Getting the data\n",
    "\n",
    "Using Webscraping to crawling data of SJC gold price in major cities and provinces in Vietnam. The data should have more than 10 records. Display a table to show the data."
   ]
  },
  {
   "cell_type": "code",
   "execution_count": 5,
   "id": "8d0559cf-26af-4736-a8f3-d705eb2eaf7e",
   "metadata": {
    "colab": {
     "base_uri": "https://localhost:8080/",
     "height": 52
    },
    "executionInfo": {
     "elapsed": 819,
     "status": "ok",
     "timestamp": 1715789294109,
     "user": {
      "displayName": "Gia bảo Tạ",
      "userId": "01001337377882460785"
     },
     "user_tz": -420
    },
    "id": "8d0559cf-26af-4736-a8f3-d705eb2eaf7e",
    "outputId": "5b4d09fc-a445-43b6-8041-e1f07eef6414"
   },
   "outputs": [
    {
     "name": "stdout",
     "output_type": "stream",
     "text": [
      "[1] \"Time: 2024-05-20 05:29:32\"\n",
      "[1] \"URL link: https://giavang.org/khu-vuc/\"\n",
      "[1] \"Status code: 200\"\n"
     ]
    }
   ],
   "source": [
    "# Enter code here\n",
    "page <- GET(\"https://giavang.org/khu-vuc/\")\n",
    "page_content <- content(page, \"text\")\n",
    "\n",
    "print(sprintf(\"Time: %s\", page$date))\n",
    "print(sprintf(\"URL link: %s\", page$url))\n",
    "print(sprintf(\"Status code: %d\", page$status_code))\n",
    "\n"
   ]
  },
  {
   "cell_type": "code",
   "execution_count": 12,
   "id": "TqRhAVnsvz8N",
   "metadata": {
    "colab": {
     "base_uri": "https://localhost:8080/",
     "height": 106
    },
    "executionInfo": {
     "elapsed": 1571,
     "status": "error",
     "timestamp": 1715784885369,
     "user": {
      "displayName": "Gia bảo Tạ",
      "userId": "01001337377882460785"
     },
     "user_tz": -420
    },
    "id": "TqRhAVnsvz8N",
    "outputId": "145acefe-dbec-4b34-fb20-8e4b40c913bf",
    "scrolled": true
   },
   "outputs": [
    {
     "data": {
      "text/html": [
       "<table>\n",
       "<thead><tr><th></th><th scope=col>Khu vực</th><th scope=col>Mua vào</th><th scope=col>Bán ra</th></tr></thead>\n",
       "<tbody>\n",
       "\t<tr><th scope=row>1</th><td>TP. H&lt;U+1ED3&gt; Chí Minh</td><td>88.40089.400                </td><td>90.20090.800                </td></tr>\n",
       "\t<tr><th scope=row>2</th><td>Biên Hòa              </td><td>84.600                </td><td>86.800                </td></tr>\n",
       "\t<tr><th scope=row>3</th><td><span style=white-space:pre-wrap>Hà N&lt;U+1ED9&gt;i         </span></td><td>87.80089.400                                                        </td><td>90.10090.700                                                        </td></tr>\n",
       "\t<tr><th scope=row>4</th><td><span style=white-space:pre-wrap>Ðà N&lt;U+1EB5&gt;ng        </span></td><td>88.50088.700                                                        </td><td>90.20090.500                                                        </td></tr>\n",
       "\t<tr><th scope=row>5</th><td><span style=white-space:pre-wrap>Mi&lt;U+1EC1&gt;n Tây       </span></td><td><span style=white-space:pre-wrap>89.100      </span>                </td><td><span style=white-space:pre-wrap>90.800      </span>                </td></tr>\n",
       "\t<tr><th scope=row>6</th><td>Tây Nguyên            </td><td>88.500                </td><td>90.500                </td></tr>\n",
       "\t<tr><th scope=row>7</th><td><span style=white-space:pre-wrap>Ðông Nam B&lt;U+1ED9&gt;    </span></td><td>88.40088.500                                                        </td><td>90.50090.600                                                        </td></tr>\n",
       "\t<tr><th scope=row>8</th><td><span style=white-space:pre-wrap>B&lt;U+1EAF&gt;c Ninh       </span></td><td><span style=white-space:pre-wrap>89.400      </span>                </td><td><span style=white-space:pre-wrap>90.700      </span>                </td></tr>\n",
       "\t<tr><th scope=row>9</th><td><span style=white-space:pre-wrap>H&lt;U+1EA3&gt;i Duong      </span></td><td><span style=white-space:pre-wrap>89.400      </span>                </td><td><span style=white-space:pre-wrap>90.700      </span>                </td></tr>\n",
       "\t<tr><th scope=row>10</th><td><span style=white-space:pre-wrap>B&lt;U+1EBF&gt;n Tre        </span></td><td><span style=white-space:pre-wrap>89.400      </span>                </td><td><span style=white-space:pre-wrap>90.600      </span>                </td></tr>\n",
       "\t<tr><th scope=row>11</th><td><span style=white-space:pre-wrap>Ti&lt;U+1EC1&gt;n Giang     </span></td><td><span style=white-space:pre-wrap>89.400      </span>                </td><td><span style=white-space:pre-wrap>90.600      </span>                </td></tr>\n",
       "\t<tr><th scope=row>12</th><td><span style=white-space:pre-wrap>Mi&lt;U+1EC1&gt;n Tây       </span></td><td><span style=white-space:pre-wrap>88.400      </span>                </td><td><span style=white-space:pre-wrap>90.600      </span>                </td></tr>\n",
       "\t<tr><th scope=row>13</th><td><span style=white-space:pre-wrap>M&lt;U+1EF9&gt; Tho         </span></td><td><span style=white-space:pre-wrap>88.400      </span>                </td><td><span style=white-space:pre-wrap>90.600      </span>                </td></tr>\n",
       "\t<tr><th scope=row>14</th><td>Vinh Long             </td><td>88.400                </td><td>90.600                </td></tr>\n",
       "\t<tr><th scope=row>15</th><td>Long Xuyên            </td><td>88.400                </td><td>90.600                </td></tr>\n",
       "\t<tr><th scope=row>16</th><td><span style=white-space:pre-wrap>C&lt;U+1EA7&gt;n Tho        </span></td><td><span style=white-space:pre-wrap>88.400      </span>                </td><td><span style=white-space:pre-wrap>90.600      </span>                </td></tr>\n",
       "\t<tr><th scope=row>17</th><td>Sa Ðéc                </td><td>88.400                </td><td>90.600                </td></tr>\n",
       "\t<tr><th scope=row>18</th><td>Trà Vinh              </td><td>88.400                </td><td>90.600                </td></tr>\n",
       "\t<tr><th scope=row>19</th><td>Tân An                </td><td>88.400                </td><td>90.600                </td></tr>\n",
       "\t<tr><th scope=row>21</th><td>NA                    </td><td>NA                    </td><td>NA                    </td></tr>\n",
       "</tbody>\n",
       "</table>\n"
      ],
      "text/latex": [
       "\\begin{tabular}{r|lll}\n",
       "  & Khu vực & Mua vào & Bán ra\\\\\n",
       "\\hline\n",
       "\t1 & TP. H<U+1ED3> Chí Minh & 88.40089.400           & 90.20090.800          \\\\\n",
       "\t2 & Biên Hòa               & 84.600                 & 86.800                \\\\\n",
       "\t3 & Hà N<U+1ED9>i          & 87.80089.400           & 90.10090.700          \\\\\n",
       "\t4 & Ðà N<U+1EB5>ng         & 88.50088.700           & 90.20090.500          \\\\\n",
       "\t5 & Mi<U+1EC1>n Tây        & 89.100                 & 90.800                \\\\\n",
       "\t6 & Tây Nguyên             & 88.500                 & 90.500                \\\\\n",
       "\t7 & Ðông Nam B<U+1ED9>     & 88.40088.500           & 90.50090.600          \\\\\n",
       "\t8 & B<U+1EAF>c Ninh        & 89.400                 & 90.700                \\\\\n",
       "\t9 & H<U+1EA3>i Duong       & 89.400                 & 90.700                \\\\\n",
       "\t10 & B<U+1EBF>n Tre         & 89.400                 & 90.600                \\\\\n",
       "\t11 & Ti<U+1EC1>n Giang      & 89.400                 & 90.600                \\\\\n",
       "\t12 & Mi<U+1EC1>n Tây        & 88.400                 & 90.600                \\\\\n",
       "\t13 & M<U+1EF9> Tho          & 88.400                 & 90.600                \\\\\n",
       "\t14 & Vinh Long              & 88.400                 & 90.600                \\\\\n",
       "\t15 & Long Xuyên             & 88.400                 & 90.600                \\\\\n",
       "\t16 & C<U+1EA7>n Tho         & 88.400                 & 90.600                \\\\\n",
       "\t17 & Sa Ðéc                 & 88.400                 & 90.600                \\\\\n",
       "\t18 & Trà Vinh               & 88.400                 & 90.600                \\\\\n",
       "\t19 & Tân An                 & 88.400                 & 90.600                \\\\\n",
       "\t21 & NA                     & NA                     & NA                    \\\\\n",
       "\\end{tabular}\n"
      ],
      "text/markdown": [
       "\n",
       "| <!--/--> | Khu vực | Mua vào | Bán ra |\n",
       "|---|---|---|---|\n",
       "| 1 | TP. H<U+1ED3> Chí Minh | 88.40089.400           | 90.20090.800           |\n",
       "| 2 | Biên Hòa               | 84.600                 | 86.800                 |\n",
       "| 3 | Hà N<U+1ED9>i          | 87.80089.400           | 90.10090.700           |\n",
       "| 4 | Ðà N<U+1EB5>ng         | 88.50088.700           | 90.20090.500           |\n",
       "| 5 | Mi<U+1EC1>n Tây        | 89.100                 | 90.800                 |\n",
       "| 6 | Tây Nguyên             | 88.500                 | 90.500                 |\n",
       "| 7 | Ðông Nam B<U+1ED9>     | 88.40088.500           | 90.50090.600           |\n",
       "| 8 | B<U+1EAF>c Ninh        | 89.400                 | 90.700                 |\n",
       "| 9 | H<U+1EA3>i Duong       | 89.400                 | 90.700                 |\n",
       "| 10 | B<U+1EBF>n Tre         | 89.400                 | 90.600                 |\n",
       "| 11 | Ti<U+1EC1>n Giang      | 89.400                 | 90.600                 |\n",
       "| 12 | Mi<U+1EC1>n Tây        | 88.400                 | 90.600                 |\n",
       "| 13 | M<U+1EF9> Tho          | 88.400                 | 90.600                 |\n",
       "| 14 | Vinh Long              | 88.400                 | 90.600                 |\n",
       "| 15 | Long Xuyên             | 88.400                 | 90.600                 |\n",
       "| 16 | C<U+1EA7>n Tho         | 88.400                 | 90.600                 |\n",
       "| 17 | Sa Ðéc                 | 88.400                 | 90.600                 |\n",
       "| 18 | Trà Vinh               | 88.400                 | 90.600                 |\n",
       "| 19 | Tân An                 | 88.400                 | 90.600                 |\n",
       "| 21 | NA                     | NA                     | NA                     |\n",
       "\n"
      ],
      "text/plain": [
       "   Khu v<U+1EF1>c                Mua vào      Bán ra      \n",
       "1  TP. H<U+1ED3> Chí Minh 88.40089.400 90.20090.800\n",
       "2  Biên Hòa               84.600       86.800      \n",
       "3  Hà N<U+1ED9>i          87.80089.400 90.10090.700\n",
       "4  Ðà N<U+1EB5>ng         88.50088.700 90.20090.500\n",
       "5  Mi<U+1EC1>n Tây        89.100       90.800      \n",
       "6  Tây Nguyên             88.500       90.500      \n",
       "7  Ðông Nam B<U+1ED9>     88.40088.500 90.50090.600\n",
       "8  B<U+1EAF>c Ninh        89.400       90.700      \n",
       "9  H<U+1EA3>i Duong       89.400       90.700      \n",
       "10 B<U+1EBF>n Tre         89.400       90.600      \n",
       "11 Ti<U+1EC1>n Giang      89.400       90.600      \n",
       "12 Mi<U+1EC1>n Tây        88.400       90.600      \n",
       "13 M<U+1EF9> Tho          88.400       90.600      \n",
       "14 Vinh Long              88.400       90.600      \n",
       "15 Long Xuyên             88.400       90.600      \n",
       "16 C<U+1EA7>n Tho         88.400       90.600      \n",
       "17 Sa Ðéc                 88.400       90.600      \n",
       "18 Trà Vinh               88.400       90.600      \n",
       "19 Tân An                 88.400       90.600      \n",
       "21 NA                     NA           NA          "
      ]
     },
     "metadata": {},
     "output_type": "display_data"
    },
    {
     "data": {
      "text/html": [
       "<table>\n",
       "<thead><tr><th scope=col>Khu vực</th><th scope=col>Mua vào</th><th scope=col>Bán ra</th></tr></thead>\n",
       "<tbody>\n",
       "\t<tr><td><span style=white-space:pre-wrap>TP. H&lt;U+1ED3&gt; Chí Minh                                                    </span></td><td><span style=white-space:pre-wrap>88.40089.400                                                              </span>      </td><td><span style=white-space:pre-wrap>90.20090.800                                                              </span>      </td></tr>\n",
       "\t<tr><td>Biên Hòa                                                                  </td><td>84.600                                                                    </td><td>86.800                                                                    </td></tr>\n",
       "\t<tr><td><span style=white-space:pre-wrap>Hà N&lt;U+1ED9&gt;i                                                             </span></td><td><span style=white-space:pre-wrap>87.80089.400                                                              </span>      </td><td><span style=white-space:pre-wrap>90.10090.700                                                              </span>      </td></tr>\n",
       "\t<tr><td><span style=white-space:pre-wrap>Ðà N&lt;U+1EB5&gt;ng                                                            </span></td><td><span style=white-space:pre-wrap>88.50088.700                                                              </span>      </td><td><span style=white-space:pre-wrap>90.20090.500                                                              </span>      </td></tr>\n",
       "\t<tr><td><span style=white-space:pre-wrap>Mi&lt;U+1EC1&gt;n Tây                                                           </span></td><td><span style=white-space:pre-wrap>89.100                                                                    </span>      </td><td><span style=white-space:pre-wrap>90.800                                                                    </span>      </td></tr>\n",
       "\t<tr><td>Tây Nguyên                                                                </td><td>88.500                                                                    </td><td>90.500                                                                    </td></tr>\n",
       "\t<tr><td><span style=white-space:pre-wrap>Ðông Nam B&lt;U+1ED9&gt;                                                        </span></td><td><span style=white-space:pre-wrap>88.40088.500                                                              </span>      </td><td><span style=white-space:pre-wrap>90.50090.600                                                              </span>      </td></tr>\n",
       "\t<tr><td><span style=white-space:pre-wrap>B&lt;U+1EAF&gt;c Ninh                                                           </span></td><td><span style=white-space:pre-wrap>89.400                                                                    </span>      </td><td><span style=white-space:pre-wrap>90.700                                                                    </span>      </td></tr>\n",
       "\t<tr><td><span style=white-space:pre-wrap>H&lt;U+1EA3&gt;i Duong                                                          </span></td><td><span style=white-space:pre-wrap>89.400                                                                    </span>      </td><td><span style=white-space:pre-wrap>90.700                                                                    </span>      </td></tr>\n",
       "\t<tr><td><span style=white-space:pre-wrap>B&lt;U+1EBF&gt;n Tre                                                            </span></td><td><span style=white-space:pre-wrap>89.400                                                                    </span>      </td><td><span style=white-space:pre-wrap>90.600                                                                    </span>      </td></tr>\n",
       "\t<tr><td><span style=white-space:pre-wrap>Ti&lt;U+1EC1&gt;n Giang                                                         </span></td><td><span style=white-space:pre-wrap>89.400                                                                    </span>      </td><td><span style=white-space:pre-wrap>90.600                                                                    </span>      </td></tr>\n",
       "\t<tr><td><span style=white-space:pre-wrap>Mi&lt;U+1EC1&gt;n Tây                                                           </span></td><td><span style=white-space:pre-wrap>88.400                                                                    </span>      </td><td><span style=white-space:pre-wrap>90.600                                                                    </span>      </td></tr>\n",
       "\t<tr><td><span style=white-space:pre-wrap>M&lt;U+1EF9&gt; Tho                                                             </span></td><td><span style=white-space:pre-wrap>88.400                                                                    </span>      </td><td><span style=white-space:pre-wrap>90.600                                                                    </span>      </td></tr>\n",
       "\t<tr><td>Vinh Long                                                                 </td><td>88.400                                                                    </td><td>90.600                                                                    </td></tr>\n",
       "\t<tr><td>Long Xuyên                                                                </td><td>88.400                                                                    </td><td>90.600                                                                    </td></tr>\n",
       "\t<tr><td><span style=white-space:pre-wrap>C&lt;U+1EA7&gt;n Tho                                                            </span></td><td><span style=white-space:pre-wrap>88.400                                                                    </span>      </td><td><span style=white-space:pre-wrap>90.600                                                                    </span>      </td></tr>\n",
       "\t<tr><td>Sa Ðéc                                                                    </td><td>88.400                                                                    </td><td>90.600                                                                    </td></tr>\n",
       "\t<tr><td>Trà Vinh                                                                  </td><td>88.400                                                                    </td><td>90.600                                                                    </td></tr>\n",
       "\t<tr><td>Tân An                                                                    </td><td>88.400                                                                    </td><td>90.600                                                                    </td></tr>\n",
       "\t<tr><td>C&lt;U+1EAD&gt;p nh&lt;U+1EAD&gt;t lúc 12:25:20 20/05/2024https://giavang.org/khu-vuc/</td><td>C&lt;U+1EAD&gt;p nh&lt;U+1EAD&gt;t lúc 12:25:20 20/05/2024https://giavang.org/khu-vuc/</td><td>C&lt;U+1EAD&gt;p nh&lt;U+1EAD&gt;t lúc 12:25:20 20/05/2024https://giavang.org/khu-vuc/</td></tr>\n",
       "\t<tr><td>NA                                                                        </td><td>NA                                                                        </td><td>NA                                                                        </td></tr>\n",
       "</tbody>\n",
       "</table>\n"
      ],
      "text/latex": [
       "\\begin{tabular}{r|lll}\n",
       " Khu vực & Mua vào & Bán ra\\\\\n",
       "\\hline\n",
       "\t TP. H<U+1ED3> Chí Minh                                                     & 88.40089.400                                                               & 90.20090.800                                                              \\\\\n",
       "\t Biên Hòa                                                                   & 84.600                                                                     & 86.800                                                                    \\\\\n",
       "\t Hà N<U+1ED9>i                                                              & 87.80089.400                                                               & 90.10090.700                                                              \\\\\n",
       "\t Ðà N<U+1EB5>ng                                                             & 88.50088.700                                                               & 90.20090.500                                                              \\\\\n",
       "\t Mi<U+1EC1>n Tây                                                            & 89.100                                                                     & 90.800                                                                    \\\\\n",
       "\t Tây Nguyên                                                                 & 88.500                                                                     & 90.500                                                                    \\\\\n",
       "\t Ðông Nam B<U+1ED9>                                                         & 88.40088.500                                                               & 90.50090.600                                                              \\\\\n",
       "\t B<U+1EAF>c Ninh                                                            & 89.400                                                                     & 90.700                                                                    \\\\\n",
       "\t H<U+1EA3>i Duong                                                           & 89.400                                                                     & 90.700                                                                    \\\\\n",
       "\t B<U+1EBF>n Tre                                                             & 89.400                                                                     & 90.600                                                                    \\\\\n",
       "\t Ti<U+1EC1>n Giang                                                          & 89.400                                                                     & 90.600                                                                    \\\\\n",
       "\t Mi<U+1EC1>n Tây                                                            & 88.400                                                                     & 90.600                                                                    \\\\\n",
       "\t M<U+1EF9> Tho                                                              & 88.400                                                                     & 90.600                                                                    \\\\\n",
       "\t Vinh Long                                                                  & 88.400                                                                     & 90.600                                                                    \\\\\n",
       "\t Long Xuyên                                                                 & 88.400                                                                     & 90.600                                                                    \\\\\n",
       "\t C<U+1EA7>n Tho                                                             & 88.400                                                                     & 90.600                                                                    \\\\\n",
       "\t Sa Ðéc                                                                     & 88.400                                                                     & 90.600                                                                    \\\\\n",
       "\t Trà Vinh                                                                   & 88.400                                                                     & 90.600                                                                    \\\\\n",
       "\t Tân An                                                                     & 88.400                                                                     & 90.600                                                                    \\\\\n",
       "\t C<U+1EAD>p nh<U+1EAD>t lúc 12:25:20 20/05/2024https://giavang.org/khu-vuc/ & C<U+1EAD>p nh<U+1EAD>t lúc 12:25:20 20/05/2024https://giavang.org/khu-vuc/ & C<U+1EAD>p nh<U+1EAD>t lúc 12:25:20 20/05/2024https://giavang.org/khu-vuc/\\\\\n",
       "\t NA                                                                         & NA                                                                         & NA                                                                        \\\\\n",
       "\\end{tabular}\n"
      ],
      "text/markdown": [
       "\n",
       "| Khu vực | Mua vào | Bán ra |\n",
       "|---|---|---|\n",
       "| TP. H<U+1ED3> Chí Minh                                                     | 88.40089.400                                                               | 90.20090.800                                                               |\n",
       "| Biên Hòa                                                                   | 84.600                                                                     | 86.800                                                                     |\n",
       "| Hà N<U+1ED9>i                                                              | 87.80089.400                                                               | 90.10090.700                                                               |\n",
       "| Ðà N<U+1EB5>ng                                                             | 88.50088.700                                                               | 90.20090.500                                                               |\n",
       "| Mi<U+1EC1>n Tây                                                            | 89.100                                                                     | 90.800                                                                     |\n",
       "| Tây Nguyên                                                                 | 88.500                                                                     | 90.500                                                                     |\n",
       "| Ðông Nam B<U+1ED9>                                                         | 88.40088.500                                                               | 90.50090.600                                                               |\n",
       "| B<U+1EAF>c Ninh                                                            | 89.400                                                                     | 90.700                                                                     |\n",
       "| H<U+1EA3>i Duong                                                           | 89.400                                                                     | 90.700                                                                     |\n",
       "| B<U+1EBF>n Tre                                                             | 89.400                                                                     | 90.600                                                                     |\n",
       "| Ti<U+1EC1>n Giang                                                          | 89.400                                                                     | 90.600                                                                     |\n",
       "| Mi<U+1EC1>n Tây                                                            | 88.400                                                                     | 90.600                                                                     |\n",
       "| M<U+1EF9> Tho                                                              | 88.400                                                                     | 90.600                                                                     |\n",
       "| Vinh Long                                                                  | 88.400                                                                     | 90.600                                                                     |\n",
       "| Long Xuyên                                                                 | 88.400                                                                     | 90.600                                                                     |\n",
       "| C<U+1EA7>n Tho                                                             | 88.400                                                                     | 90.600                                                                     |\n",
       "| Sa Ðéc                                                                     | 88.400                                                                     | 90.600                                                                     |\n",
       "| Trà Vinh                                                                   | 88.400                                                                     | 90.600                                                                     |\n",
       "| Tân An                                                                     | 88.400                                                                     | 90.600                                                                     |\n",
       "| C<U+1EAD>p nh<U+1EAD>t lúc 12:25:20 20/05/2024https://giavang.org/khu-vuc/ | C<U+1EAD>p nh<U+1EAD>t lúc 12:25:20 20/05/2024https://giavang.org/khu-vuc/ | C<U+1EAD>p nh<U+1EAD>t lúc 12:25:20 20/05/2024https://giavang.org/khu-vuc/ |\n",
       "| NA                                                                         | NA                                                                         | NA                                                                         |\n",
       "\n"
      ],
      "text/plain": [
       "   Khu v<U+1EF1>c                                                                   \n",
       "1  TP. H<U+1ED3> Chí Minh                                                    \n",
       "2  Biên Hòa                                                                  \n",
       "3  Hà N<U+1ED9>i                                                             \n",
       "4  Ðà N<U+1EB5>ng                                                            \n",
       "5  Mi<U+1EC1>n Tây                                                           \n",
       "6  Tây Nguyên                                                                \n",
       "7  Ðông Nam B<U+1ED9>                                                        \n",
       "8  B<U+1EAF>c Ninh                                                           \n",
       "9  H<U+1EA3>i Duong                                                          \n",
       "10 B<U+1EBF>n Tre                                                            \n",
       "11 Ti<U+1EC1>n Giang                                                         \n",
       "12 Mi<U+1EC1>n Tây                                                           \n",
       "13 M<U+1EF9> Tho                                                             \n",
       "14 Vinh Long                                                                 \n",
       "15 Long Xuyên                                                                \n",
       "16 C<U+1EA7>n Tho                                                            \n",
       "17 Sa Ðéc                                                                    \n",
       "18 Trà Vinh                                                                  \n",
       "19 Tân An                                                                    \n",
       "20 C<U+1EAD>p nh<U+1EAD>t lúc 12:25:20 20/05/2024https://giavang.org/khu-vuc/\n",
       "21 NA                                                                        \n",
       "   Mua vào                                                                   \n",
       "1  88.40089.400                                                              \n",
       "2  84.600                                                                    \n",
       "3  87.80089.400                                                              \n",
       "4  88.50088.700                                                              \n",
       "5  89.100                                                                    \n",
       "6  88.500                                                                    \n",
       "7  88.40088.500                                                              \n",
       "8  89.400                                                                    \n",
       "9  89.400                                                                    \n",
       "10 89.400                                                                    \n",
       "11 89.400                                                                    \n",
       "12 88.400                                                                    \n",
       "13 88.400                                                                    \n",
       "14 88.400                                                                    \n",
       "15 88.400                                                                    \n",
       "16 88.400                                                                    \n",
       "17 88.400                                                                    \n",
       "18 88.400                                                                    \n",
       "19 88.400                                                                    \n",
       "20 C<U+1EAD>p nh<U+1EAD>t lúc 12:25:20 20/05/2024https://giavang.org/khu-vuc/\n",
       "21 NA                                                                        \n",
       "   Bán ra                                                                    \n",
       "1  90.20090.800                                                              \n",
       "2  86.800                                                                    \n",
       "3  90.10090.700                                                              \n",
       "4  90.20090.500                                                              \n",
       "5  90.800                                                                    \n",
       "6  90.500                                                                    \n",
       "7  90.50090.600                                                              \n",
       "8  90.700                                                                    \n",
       "9  90.700                                                                    \n",
       "10 90.600                                                                    \n",
       "11 90.600                                                                    \n",
       "12 90.600                                                                    \n",
       "13 90.600                                                                    \n",
       "14 90.600                                                                    \n",
       "15 90.600                                                                    \n",
       "16 90.600                                                                    \n",
       "17 90.600                                                                    \n",
       "18 90.600                                                                    \n",
       "19 90.600                                                                    \n",
       "20 C<U+1EAD>p nh<U+1EAD>t lúc 12:25:20 20/05/2024https://giavang.org/khu-vuc/\n",
       "21 NA                                                                        "
      ]
     },
     "metadata": {},
     "output_type": "display_data"
    }
   ],
   "source": [
    "webpage <- read_html(page_content)\n",
    "table_node <- html_node(webpage, \"table\") \n",
    "  \n",
    "# Extract the table content \n",
    "table_content <- html_table(table_node, fill =TRUE)\n",
    "table_content[-c(20),]\n",
    "\n",
    "\n",
    "  \n",
    "# Print the table \n",
    "\n",
    "table_content\n"
   ]
  },
  {
   "cell_type": "markdown",
   "id": "463a4276-9163-4e87-9b55-d9519289ab86",
   "metadata": {
    "id": "463a4276-9163-4e87-9b55-d9519289ab86"
   },
   "source": [
    "#### 3.2 Which province has the highest gold selling price?"
   ]
  },
  {
   "cell_type": "code",
   "execution_count": 7,
   "id": "f09c8e0b-4b4b-43fb-95cf-19443b1eb202",
   "metadata": {
    "id": "4d82f0f7-6618-4461-affa-bf033913f2e8"
   },
   "outputs": [
    {
     "name": "stderr",
     "output_type": "stream",
     "text": [
      "Warning message in eval(expr, envir, enclos):\n",
      "\"NAs introduced by coercion\"Warning message in eval(expr, envir, enclos):\n",
      "\"NAs introduced by coercion\""
     ]
    }
   ],
   "source": [
    "# Enter code here\n",
    "table_content[,2] <- as.numeric(table_content[,2])\n",
    "table_content[,3] <- as.numeric(table_content[,3])"
   ]
  },
  {
   "cell_type": "code",
   "execution_count": 8,
   "id": "4d82f0f7-6618-4461-affa-bf033913f2e8",
   "metadata": {
    "id": "4d82f0f7-6618-4461-affa-bf033913f2e8"
   },
   "outputs": [
    {
     "data": {
      "text/html": [
       "&lt;NA&gt;"
      ],
      "text/latex": [
       "<NA>"
      ],
      "text/markdown": [
       "&lt;NA&gt;"
      ],
      "text/plain": [
       "[1] NA"
      ]
     },
     "metadata": {},
     "output_type": "display_data"
    }
   ],
   "source": [
    "# Enter code here\n",
    "highest_selling <- max(table_content[,3]) \n",
    "highest_selling"
   ]
  },
  {
   "cell_type": "markdown",
   "id": "61e622db-e0ff-482a-b8b5-af5de8203451",
   "metadata": {
    "id": "61e622db-e0ff-482a-b8b5-af5de8203451"
   },
   "source": [
    "#### 3.3 Which provinces have the biggest difference in selling and buying prices?"
   ]
  },
  {
   "cell_type": "code",
   "execution_count": 9,
   "id": "e3e9c56d-c635-4678-921e-a09d5e9e45b9",
   "metadata": {
    "id": "e3e9c56d-c635-4678-921e-a09d5e9e45b9"
   },
   "outputs": [],
   "source": [
    "# Enter code here\n"
   ]
  },
  {
   "cell_type": "markdown",
   "id": "8e55cbd5-288d-452e-a99a-512d33bb9493",
   "metadata": {
    "id": "8e55cbd5-288d-452e-a99a-512d33bb9493"
   },
   "source": [
    "#### 3.4 Find all the province has selling price below average"
   ]
  },
  {
   "cell_type": "code",
   "execution_count": 10,
   "id": "dfc8b0ca-783b-4402-be30-69aa9fcaaa57",
   "metadata": {
    "id": "dfc8b0ca-783b-4402-be30-69aa9fcaaa57"
   },
   "outputs": [],
   "source": [
    "# Enter code here\n"
   ]
  },
  {
   "cell_type": "markdown",
   "id": "e031c33d-ba10-4b44-a3fe-8fd3a29c23b4",
   "metadata": {
    "id": "e031c33d-ba10-4b44-a3fe-8fd3a29c23b4"
   },
   "source": [
    "#### 3.5 Find the difference between highest buying price and lowest selling price of all provinces"
   ]
  },
  {
   "cell_type": "code",
   "execution_count": 11,
   "id": "ab84e8fe-dc8c-4c26-ae62-99871ec3f29e",
   "metadata": {
    "id": "ab84e8fe-dc8c-4c26-ae62-99871ec3f29e"
   },
   "outputs": [],
   "source": [
    "# Enter code here\n"
   ]
  },
  {
   "cell_type": "markdown",
   "id": "48c8e44c-2e57-4e27-beda-457c3ed6e2cd",
   "metadata": {
    "id": "48c8e44c-2e57-4e27-beda-457c3ed6e2cd"
   },
   "source": [
    "## Author\n",
    "\n",
    "#### <a href=\"\" target=\"_blank\"></a>\n",
    "\n",
    "## Change Log\n",
    "\n",
    "| Date (YYYY-MM-DD) | Version | Changed By | Change Description                 |\n",
    "| ----------------- | ------- | ---------- | ---------------------------------- |\n",
    "| 2024-01-10        | 2.1     |     | Create the 2.1st version             |\n",
    "|                   |         |            |                                    |\n",
    "|                   |         |            |                                    |\n",
    "\n",
    "<hr>\n",
    "\n",
    "## <h3 align=\"center\"> © FPT University. All rights reserved. <h3/>\n"
   ]
  },
  {
   "cell_type": "code",
   "execution_count": null,
   "id": "2cb51cc1-6462-42dc-bd38-225afb8eb8ac",
   "metadata": {
    "id": "2cb51cc1-6462-42dc-bd38-225afb8eb8ac"
   },
   "outputs": [],
   "source": []
  }
 ],
 "metadata": {
  "colab": {
   "provenance": []
  },
  "kernelspec": {
   "display_name": "R",
   "language": "R",
   "name": "ir"
  },
  "language_info": {
   "codemirror_mode": "r",
   "file_extension": ".r",
   "mimetype": "text/x-r-source",
   "name": "R",
   "pygments_lexer": "r",
   "version": "3.6.1"
  }
 },
 "nbformat": 4,
 "nbformat_minor": 5
}
